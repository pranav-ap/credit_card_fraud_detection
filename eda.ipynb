{
 "cells": [
  {
   "metadata": {
    "ExecuteTime": {
     "end_time": "2024-11-24T17:26:19.286882Z",
     "start_time": "2024-11-24T17:26:19.204973Z"
    }
   },
   "cell_type": "code",
   "source": [
    "%load_ext autoreload\n",
    "%autoreload 2"
   ],
   "id": "9574061c5ada6ffa",
   "outputs": [
    {
     "name": "stdout",
     "output_type": "stream",
     "text": [
      "The autoreload extension is already loaded. To reload it, use:\n",
      "  %reload_ext autoreload\n"
     ]
    }
   ],
   "execution_count": 31
  },
  {
   "cell_type": "code",
   "id": "initial_id",
   "metadata": {
    "collapsed": true,
    "ExecuteTime": {
     "end_time": "2024-11-24T17:26:19.559058Z",
     "start_time": "2024-11-24T17:26:19.472336Z"
    }
   },
   "source": [
    "import pandas as pd\n",
    "import numpy as np\n",
    "import matplotlib.pyplot as plt\n",
    "import seaborn as sns\n",
    "\n",
    "from sklearn.model_selection import train_test_split"
   ],
   "outputs": [],
   "execution_count": 32
  },
  {
   "metadata": {},
   "cell_type": "markdown",
   "source": "# Import Data",
   "id": "ff472b60ddd7f860"
  },
  {
   "metadata": {
    "ExecuteTime": {
     "end_time": "2024-11-24T17:26:23.818876Z",
     "start_time": "2024-11-24T17:26:19.605067Z"
    }
   },
   "cell_type": "code",
   "source": [
    "df = pd.read_csv(\"data/creditcard_2023.csv\")\n",
    "df.head()"
   ],
   "id": "dbf2ec22305f74a6",
   "outputs": [
    {
     "data": {
      "text/plain": [
       "   id        V1        V2        V3        V4        V5        V6        V7  \\\n",
       "0   0 -0.260648 -0.469648  2.496266 -0.083724  0.129681  0.732898  0.519014   \n",
       "1   1  0.985100 -0.356045  0.558056 -0.429654  0.277140  0.428605  0.406466   \n",
       "2   2 -0.260272 -0.949385  1.728538 -0.457986  0.074062  1.419481  0.743511   \n",
       "3   3 -0.152152 -0.508959  1.746840 -1.090178  0.249486  1.143312  0.518269   \n",
       "4   4 -0.206820 -0.165280  1.527053 -0.448293  0.106125  0.530549  0.658849   \n",
       "\n",
       "         V8        V9  ...       V21       V22       V23       V24       V25  \\\n",
       "0 -0.130006  0.727159  ... -0.110552  0.217606 -0.134794  0.165959  0.126280   \n",
       "1 -0.133118  0.347452  ... -0.194936 -0.605761  0.079469 -0.577395  0.190090   \n",
       "2 -0.095576 -0.261297  ... -0.005020  0.702906  0.945045 -1.154666 -0.605564   \n",
       "3 -0.065130 -0.205698  ... -0.146927 -0.038212 -0.214048 -1.893131  1.003963   \n",
       "4 -0.212660  1.049921  ... -0.106984  0.729727 -0.161666  0.312561 -0.414116   \n",
       "\n",
       "        V26       V27       V28    Amount  Class  \n",
       "0 -0.434824 -0.081230 -0.151045  17982.10      0  \n",
       "1  0.296503 -0.248052 -0.064512   6531.37      0  \n",
       "2 -0.312895 -0.300258 -0.244718   2513.54      0  \n",
       "3 -0.515950 -0.165316  0.048424   5384.44      0  \n",
       "4  1.071126  0.023712  0.419117  14278.97      0  \n",
       "\n",
       "[5 rows x 31 columns]"
      ],
      "text/html": [
       "<div>\n",
       "<style scoped>\n",
       "    .dataframe tbody tr th:only-of-type {\n",
       "        vertical-align: middle;\n",
       "    }\n",
       "\n",
       "    .dataframe tbody tr th {\n",
       "        vertical-align: top;\n",
       "    }\n",
       "\n",
       "    .dataframe thead th {\n",
       "        text-align: right;\n",
       "    }\n",
       "</style>\n",
       "<table border=\"1\" class=\"dataframe\">\n",
       "  <thead>\n",
       "    <tr style=\"text-align: right;\">\n",
       "      <th></th>\n",
       "      <th>id</th>\n",
       "      <th>V1</th>\n",
       "      <th>V2</th>\n",
       "      <th>V3</th>\n",
       "      <th>V4</th>\n",
       "      <th>V5</th>\n",
       "      <th>V6</th>\n",
       "      <th>V7</th>\n",
       "      <th>V8</th>\n",
       "      <th>V9</th>\n",
       "      <th>...</th>\n",
       "      <th>V21</th>\n",
       "      <th>V22</th>\n",
       "      <th>V23</th>\n",
       "      <th>V24</th>\n",
       "      <th>V25</th>\n",
       "      <th>V26</th>\n",
       "      <th>V27</th>\n",
       "      <th>V28</th>\n",
       "      <th>Amount</th>\n",
       "      <th>Class</th>\n",
       "    </tr>\n",
       "  </thead>\n",
       "  <tbody>\n",
       "    <tr>\n",
       "      <th>0</th>\n",
       "      <td>0</td>\n",
       "      <td>-0.260648</td>\n",
       "      <td>-0.469648</td>\n",
       "      <td>2.496266</td>\n",
       "      <td>-0.083724</td>\n",
       "      <td>0.129681</td>\n",
       "      <td>0.732898</td>\n",
       "      <td>0.519014</td>\n",
       "      <td>-0.130006</td>\n",
       "      <td>0.727159</td>\n",
       "      <td>...</td>\n",
       "      <td>-0.110552</td>\n",
       "      <td>0.217606</td>\n",
       "      <td>-0.134794</td>\n",
       "      <td>0.165959</td>\n",
       "      <td>0.126280</td>\n",
       "      <td>-0.434824</td>\n",
       "      <td>-0.081230</td>\n",
       "      <td>-0.151045</td>\n",
       "      <td>17982.10</td>\n",
       "      <td>0</td>\n",
       "    </tr>\n",
       "    <tr>\n",
       "      <th>1</th>\n",
       "      <td>1</td>\n",
       "      <td>0.985100</td>\n",
       "      <td>-0.356045</td>\n",
       "      <td>0.558056</td>\n",
       "      <td>-0.429654</td>\n",
       "      <td>0.277140</td>\n",
       "      <td>0.428605</td>\n",
       "      <td>0.406466</td>\n",
       "      <td>-0.133118</td>\n",
       "      <td>0.347452</td>\n",
       "      <td>...</td>\n",
       "      <td>-0.194936</td>\n",
       "      <td>-0.605761</td>\n",
       "      <td>0.079469</td>\n",
       "      <td>-0.577395</td>\n",
       "      <td>0.190090</td>\n",
       "      <td>0.296503</td>\n",
       "      <td>-0.248052</td>\n",
       "      <td>-0.064512</td>\n",
       "      <td>6531.37</td>\n",
       "      <td>0</td>\n",
       "    </tr>\n",
       "    <tr>\n",
       "      <th>2</th>\n",
       "      <td>2</td>\n",
       "      <td>-0.260272</td>\n",
       "      <td>-0.949385</td>\n",
       "      <td>1.728538</td>\n",
       "      <td>-0.457986</td>\n",
       "      <td>0.074062</td>\n",
       "      <td>1.419481</td>\n",
       "      <td>0.743511</td>\n",
       "      <td>-0.095576</td>\n",
       "      <td>-0.261297</td>\n",
       "      <td>...</td>\n",
       "      <td>-0.005020</td>\n",
       "      <td>0.702906</td>\n",
       "      <td>0.945045</td>\n",
       "      <td>-1.154666</td>\n",
       "      <td>-0.605564</td>\n",
       "      <td>-0.312895</td>\n",
       "      <td>-0.300258</td>\n",
       "      <td>-0.244718</td>\n",
       "      <td>2513.54</td>\n",
       "      <td>0</td>\n",
       "    </tr>\n",
       "    <tr>\n",
       "      <th>3</th>\n",
       "      <td>3</td>\n",
       "      <td>-0.152152</td>\n",
       "      <td>-0.508959</td>\n",
       "      <td>1.746840</td>\n",
       "      <td>-1.090178</td>\n",
       "      <td>0.249486</td>\n",
       "      <td>1.143312</td>\n",
       "      <td>0.518269</td>\n",
       "      <td>-0.065130</td>\n",
       "      <td>-0.205698</td>\n",
       "      <td>...</td>\n",
       "      <td>-0.146927</td>\n",
       "      <td>-0.038212</td>\n",
       "      <td>-0.214048</td>\n",
       "      <td>-1.893131</td>\n",
       "      <td>1.003963</td>\n",
       "      <td>-0.515950</td>\n",
       "      <td>-0.165316</td>\n",
       "      <td>0.048424</td>\n",
       "      <td>5384.44</td>\n",
       "      <td>0</td>\n",
       "    </tr>\n",
       "    <tr>\n",
       "      <th>4</th>\n",
       "      <td>4</td>\n",
       "      <td>-0.206820</td>\n",
       "      <td>-0.165280</td>\n",
       "      <td>1.527053</td>\n",
       "      <td>-0.448293</td>\n",
       "      <td>0.106125</td>\n",
       "      <td>0.530549</td>\n",
       "      <td>0.658849</td>\n",
       "      <td>-0.212660</td>\n",
       "      <td>1.049921</td>\n",
       "      <td>...</td>\n",
       "      <td>-0.106984</td>\n",
       "      <td>0.729727</td>\n",
       "      <td>-0.161666</td>\n",
       "      <td>0.312561</td>\n",
       "      <td>-0.414116</td>\n",
       "      <td>1.071126</td>\n",
       "      <td>0.023712</td>\n",
       "      <td>0.419117</td>\n",
       "      <td>14278.97</td>\n",
       "      <td>0</td>\n",
       "    </tr>\n",
       "  </tbody>\n",
       "</table>\n",
       "<p>5 rows × 31 columns</p>\n",
       "</div>"
      ]
     },
     "execution_count": 33,
     "metadata": {},
     "output_type": "execute_result"
    }
   ],
   "execution_count": 33
  },
  {
   "metadata": {
    "ExecuteTime": {
     "end_time": "2024-11-24T17:26:23.944500Z",
     "start_time": "2024-11-24T17:26:23.820896Z"
    }
   },
   "cell_type": "code",
   "source": [
    "df = df.drop(columns=[\"id\"], axis=1)\n",
    "\n",
    "target = [\"Class\"]\n",
    "features = [column for column in df.columns if column not in target]"
   ],
   "id": "5de393bbfa49c929",
   "outputs": [],
   "execution_count": 34
  },
  {
   "metadata": {},
   "cell_type": "markdown",
   "source": "# Describe",
   "id": "5bf39e9a9e5be2ee"
  },
  {
   "metadata": {
    "ExecuteTime": {
     "end_time": "2024-11-24T17:26:24.627320Z",
     "start_time": "2024-11-24T17:26:23.946666Z"
    }
   },
   "cell_type": "code",
   "source": "df.describe()",
   "id": "dfe3ba45e3d9ffe1",
   "outputs": [
    {
     "data": {
      "text/plain": [
       "                 V1            V2            V3            V4            V5  \\\n",
       "count  5.686300e+05  5.686300e+05  5.686300e+05  5.686300e+05  5.686300e+05   \n",
       "mean  -5.638058e-17 -1.319545e-16 -3.518788e-17 -2.879008e-17  7.997245e-18   \n",
       "std    1.000001e+00  1.000001e+00  1.000001e+00  1.000001e+00  1.000001e+00   \n",
       "min   -3.495584e+00 -4.996657e+01 -3.183760e+00 -4.951222e+00 -9.952786e+00   \n",
       "25%   -5.652859e-01 -4.866777e-01 -6.492987e-01 -6.560203e-01 -2.934955e-01   \n",
       "50%   -9.363846e-02 -1.358939e-01  3.528579e-04 -7.376152e-02  8.108788e-02   \n",
       "75%    8.326582e-01  3.435552e-01  6.285380e-01  7.070047e-01  4.397368e-01   \n",
       "max    2.229046e+00  4.361865e+00  1.412583e+01  3.201536e+00  4.271689e+01   \n",
       "\n",
       "                 V6            V7            V8            V9           V10  \\\n",
       "count  5.686300e+05  5.686300e+05  5.686300e+05  5.686300e+05  5.686300e+05   \n",
       "mean  -3.958636e-17 -3.198898e-17  2.109273e-17  3.998623e-17  1.991314e-16   \n",
       "std    1.000001e+00  1.000001e+00  1.000001e+00  1.000001e+00  1.000001e+00   \n",
       "min   -2.111111e+01 -4.351839e+00 -1.075634e+01 -3.751919e+00 -3.163276e+00   \n",
       "25%   -4.458712e-01 -2.835329e-01 -1.922572e-01 -5.687446e-01 -5.901008e-01   \n",
       "50%    7.871758e-02  2.333659e-01 -1.145242e-01  9.252647e-02  2.626145e-01   \n",
       "75%    4.977881e-01  5.259548e-01  4.729905e-02  5.592621e-01  5.924603e-01   \n",
       "max    2.616840e+01  2.178730e+02  5.958040e+00  2.027006e+01  3.172271e+01   \n",
       "\n",
       "       ...           V21           V22           V23           V24  \\\n",
       "count  ...  5.686300e+05  5.686300e+05  5.686300e+05  5.686300e+05   \n",
       "mean   ...  4.758361e-17  3.948640e-18  6.194741e-18 -2.799036e-18   \n",
       "std    ...  1.000001e+00  1.000001e+00  1.000001e+00  1.000001e+00   \n",
       "min    ... -1.938252e+01 -7.734798e+00 -3.029545e+01 -4.067968e+00   \n",
       "25%    ... -1.664408e-01 -4.904892e-01 -2.376289e-01 -6.515801e-01   \n",
       "50%    ... -3.743065e-02 -2.732881e-02 -5.968903e-02  1.590123e-02   \n",
       "75%    ...  1.479787e-01  4.638817e-01  1.557153e-01  7.007374e-01   \n",
       "max    ...  8.087080e+00  1.263251e+01  3.170763e+01  1.296564e+01   \n",
       "\n",
       "                V25           V26           V27           V28         Amount  \\\n",
       "count  5.686300e+05  5.686300e+05  5.686300e+05  5.686300e+05  568630.000000   \n",
       "mean  -3.178905e-17 -7.497417e-18 -3.598760e-17  2.609101e-17   12041.957635   \n",
       "std    1.000001e+00  1.000001e+00  1.000001e+00  1.000001e+00    6919.644449   \n",
       "min   -1.361263e+01 -8.226969e+00 -1.049863e+01 -3.903524e+01      50.010000   \n",
       "25%   -5.541485e-01 -6.318948e-01 -3.049607e-01 -2.318783e-01    6054.892500   \n",
       "50%   -8.193162e-03 -1.189208e-02 -1.729111e-01 -1.392973e-02   12030.150000   \n",
       "75%    5.500147e-01  6.728879e-01  3.340230e-01  4.095903e-01   18036.330000   \n",
       "max    1.462151e+01  5.623285e+00  1.132311e+02  7.725594e+01   24039.930000   \n",
       "\n",
       "          Class  \n",
       "count  568630.0  \n",
       "mean        0.5  \n",
       "std         0.5  \n",
       "min         0.0  \n",
       "25%         0.0  \n",
       "50%         0.5  \n",
       "75%         1.0  \n",
       "max         1.0  \n",
       "\n",
       "[8 rows x 30 columns]"
      ],
      "text/html": [
       "<div>\n",
       "<style scoped>\n",
       "    .dataframe tbody tr th:only-of-type {\n",
       "        vertical-align: middle;\n",
       "    }\n",
       "\n",
       "    .dataframe tbody tr th {\n",
       "        vertical-align: top;\n",
       "    }\n",
       "\n",
       "    .dataframe thead th {\n",
       "        text-align: right;\n",
       "    }\n",
       "</style>\n",
       "<table border=\"1\" class=\"dataframe\">\n",
       "  <thead>\n",
       "    <tr style=\"text-align: right;\">\n",
       "      <th></th>\n",
       "      <th>V1</th>\n",
       "      <th>V2</th>\n",
       "      <th>V3</th>\n",
       "      <th>V4</th>\n",
       "      <th>V5</th>\n",
       "      <th>V6</th>\n",
       "      <th>V7</th>\n",
       "      <th>V8</th>\n",
       "      <th>V9</th>\n",
       "      <th>V10</th>\n",
       "      <th>...</th>\n",
       "      <th>V21</th>\n",
       "      <th>V22</th>\n",
       "      <th>V23</th>\n",
       "      <th>V24</th>\n",
       "      <th>V25</th>\n",
       "      <th>V26</th>\n",
       "      <th>V27</th>\n",
       "      <th>V28</th>\n",
       "      <th>Amount</th>\n",
       "      <th>Class</th>\n",
       "    </tr>\n",
       "  </thead>\n",
       "  <tbody>\n",
       "    <tr>\n",
       "      <th>count</th>\n",
       "      <td>5.686300e+05</td>\n",
       "      <td>5.686300e+05</td>\n",
       "      <td>5.686300e+05</td>\n",
       "      <td>5.686300e+05</td>\n",
       "      <td>5.686300e+05</td>\n",
       "      <td>5.686300e+05</td>\n",
       "      <td>5.686300e+05</td>\n",
       "      <td>5.686300e+05</td>\n",
       "      <td>5.686300e+05</td>\n",
       "      <td>5.686300e+05</td>\n",
       "      <td>...</td>\n",
       "      <td>5.686300e+05</td>\n",
       "      <td>5.686300e+05</td>\n",
       "      <td>5.686300e+05</td>\n",
       "      <td>5.686300e+05</td>\n",
       "      <td>5.686300e+05</td>\n",
       "      <td>5.686300e+05</td>\n",
       "      <td>5.686300e+05</td>\n",
       "      <td>5.686300e+05</td>\n",
       "      <td>568630.000000</td>\n",
       "      <td>568630.0</td>\n",
       "    </tr>\n",
       "    <tr>\n",
       "      <th>mean</th>\n",
       "      <td>-5.638058e-17</td>\n",
       "      <td>-1.319545e-16</td>\n",
       "      <td>-3.518788e-17</td>\n",
       "      <td>-2.879008e-17</td>\n",
       "      <td>7.997245e-18</td>\n",
       "      <td>-3.958636e-17</td>\n",
       "      <td>-3.198898e-17</td>\n",
       "      <td>2.109273e-17</td>\n",
       "      <td>3.998623e-17</td>\n",
       "      <td>1.991314e-16</td>\n",
       "      <td>...</td>\n",
       "      <td>4.758361e-17</td>\n",
       "      <td>3.948640e-18</td>\n",
       "      <td>6.194741e-18</td>\n",
       "      <td>-2.799036e-18</td>\n",
       "      <td>-3.178905e-17</td>\n",
       "      <td>-7.497417e-18</td>\n",
       "      <td>-3.598760e-17</td>\n",
       "      <td>2.609101e-17</td>\n",
       "      <td>12041.957635</td>\n",
       "      <td>0.5</td>\n",
       "    </tr>\n",
       "    <tr>\n",
       "      <th>std</th>\n",
       "      <td>1.000001e+00</td>\n",
       "      <td>1.000001e+00</td>\n",
       "      <td>1.000001e+00</td>\n",
       "      <td>1.000001e+00</td>\n",
       "      <td>1.000001e+00</td>\n",
       "      <td>1.000001e+00</td>\n",
       "      <td>1.000001e+00</td>\n",
       "      <td>1.000001e+00</td>\n",
       "      <td>1.000001e+00</td>\n",
       "      <td>1.000001e+00</td>\n",
       "      <td>...</td>\n",
       "      <td>1.000001e+00</td>\n",
       "      <td>1.000001e+00</td>\n",
       "      <td>1.000001e+00</td>\n",
       "      <td>1.000001e+00</td>\n",
       "      <td>1.000001e+00</td>\n",
       "      <td>1.000001e+00</td>\n",
       "      <td>1.000001e+00</td>\n",
       "      <td>1.000001e+00</td>\n",
       "      <td>6919.644449</td>\n",
       "      <td>0.5</td>\n",
       "    </tr>\n",
       "    <tr>\n",
       "      <th>min</th>\n",
       "      <td>-3.495584e+00</td>\n",
       "      <td>-4.996657e+01</td>\n",
       "      <td>-3.183760e+00</td>\n",
       "      <td>-4.951222e+00</td>\n",
       "      <td>-9.952786e+00</td>\n",
       "      <td>-2.111111e+01</td>\n",
       "      <td>-4.351839e+00</td>\n",
       "      <td>-1.075634e+01</td>\n",
       "      <td>-3.751919e+00</td>\n",
       "      <td>-3.163276e+00</td>\n",
       "      <td>...</td>\n",
       "      <td>-1.938252e+01</td>\n",
       "      <td>-7.734798e+00</td>\n",
       "      <td>-3.029545e+01</td>\n",
       "      <td>-4.067968e+00</td>\n",
       "      <td>-1.361263e+01</td>\n",
       "      <td>-8.226969e+00</td>\n",
       "      <td>-1.049863e+01</td>\n",
       "      <td>-3.903524e+01</td>\n",
       "      <td>50.010000</td>\n",
       "      <td>0.0</td>\n",
       "    </tr>\n",
       "    <tr>\n",
       "      <th>25%</th>\n",
       "      <td>-5.652859e-01</td>\n",
       "      <td>-4.866777e-01</td>\n",
       "      <td>-6.492987e-01</td>\n",
       "      <td>-6.560203e-01</td>\n",
       "      <td>-2.934955e-01</td>\n",
       "      <td>-4.458712e-01</td>\n",
       "      <td>-2.835329e-01</td>\n",
       "      <td>-1.922572e-01</td>\n",
       "      <td>-5.687446e-01</td>\n",
       "      <td>-5.901008e-01</td>\n",
       "      <td>...</td>\n",
       "      <td>-1.664408e-01</td>\n",
       "      <td>-4.904892e-01</td>\n",
       "      <td>-2.376289e-01</td>\n",
       "      <td>-6.515801e-01</td>\n",
       "      <td>-5.541485e-01</td>\n",
       "      <td>-6.318948e-01</td>\n",
       "      <td>-3.049607e-01</td>\n",
       "      <td>-2.318783e-01</td>\n",
       "      <td>6054.892500</td>\n",
       "      <td>0.0</td>\n",
       "    </tr>\n",
       "    <tr>\n",
       "      <th>50%</th>\n",
       "      <td>-9.363846e-02</td>\n",
       "      <td>-1.358939e-01</td>\n",
       "      <td>3.528579e-04</td>\n",
       "      <td>-7.376152e-02</td>\n",
       "      <td>8.108788e-02</td>\n",
       "      <td>7.871758e-02</td>\n",
       "      <td>2.333659e-01</td>\n",
       "      <td>-1.145242e-01</td>\n",
       "      <td>9.252647e-02</td>\n",
       "      <td>2.626145e-01</td>\n",
       "      <td>...</td>\n",
       "      <td>-3.743065e-02</td>\n",
       "      <td>-2.732881e-02</td>\n",
       "      <td>-5.968903e-02</td>\n",
       "      <td>1.590123e-02</td>\n",
       "      <td>-8.193162e-03</td>\n",
       "      <td>-1.189208e-02</td>\n",
       "      <td>-1.729111e-01</td>\n",
       "      <td>-1.392973e-02</td>\n",
       "      <td>12030.150000</td>\n",
       "      <td>0.5</td>\n",
       "    </tr>\n",
       "    <tr>\n",
       "      <th>75%</th>\n",
       "      <td>8.326582e-01</td>\n",
       "      <td>3.435552e-01</td>\n",
       "      <td>6.285380e-01</td>\n",
       "      <td>7.070047e-01</td>\n",
       "      <td>4.397368e-01</td>\n",
       "      <td>4.977881e-01</td>\n",
       "      <td>5.259548e-01</td>\n",
       "      <td>4.729905e-02</td>\n",
       "      <td>5.592621e-01</td>\n",
       "      <td>5.924603e-01</td>\n",
       "      <td>...</td>\n",
       "      <td>1.479787e-01</td>\n",
       "      <td>4.638817e-01</td>\n",
       "      <td>1.557153e-01</td>\n",
       "      <td>7.007374e-01</td>\n",
       "      <td>5.500147e-01</td>\n",
       "      <td>6.728879e-01</td>\n",
       "      <td>3.340230e-01</td>\n",
       "      <td>4.095903e-01</td>\n",
       "      <td>18036.330000</td>\n",
       "      <td>1.0</td>\n",
       "    </tr>\n",
       "    <tr>\n",
       "      <th>max</th>\n",
       "      <td>2.229046e+00</td>\n",
       "      <td>4.361865e+00</td>\n",
       "      <td>1.412583e+01</td>\n",
       "      <td>3.201536e+00</td>\n",
       "      <td>4.271689e+01</td>\n",
       "      <td>2.616840e+01</td>\n",
       "      <td>2.178730e+02</td>\n",
       "      <td>5.958040e+00</td>\n",
       "      <td>2.027006e+01</td>\n",
       "      <td>3.172271e+01</td>\n",
       "      <td>...</td>\n",
       "      <td>8.087080e+00</td>\n",
       "      <td>1.263251e+01</td>\n",
       "      <td>3.170763e+01</td>\n",
       "      <td>1.296564e+01</td>\n",
       "      <td>1.462151e+01</td>\n",
       "      <td>5.623285e+00</td>\n",
       "      <td>1.132311e+02</td>\n",
       "      <td>7.725594e+01</td>\n",
       "      <td>24039.930000</td>\n",
       "      <td>1.0</td>\n",
       "    </tr>\n",
       "  </tbody>\n",
       "</table>\n",
       "<p>8 rows × 30 columns</p>\n",
       "</div>"
      ]
     },
     "execution_count": 35,
     "metadata": {},
     "output_type": "execute_result"
    }
   ],
   "execution_count": 35
  },
  {
   "metadata": {
    "ExecuteTime": {
     "end_time": "2024-11-24T17:26:24.720692Z",
     "start_time": "2024-11-24T17:26:24.631339Z"
    }
   },
   "cell_type": "code",
   "source": "df['Class'] = df['Class'].astype('category')",
   "id": "227dc2b138557261",
   "outputs": [],
   "execution_count": 36
  },
  {
   "metadata": {
    "ExecuteTime": {
     "end_time": "2024-11-24T17:26:24.821643Z",
     "start_time": "2024-11-24T17:26:24.722310Z"
    }
   },
   "cell_type": "code",
   "source": "df.describe(include=['category'])",
   "id": "15a4611a1e0b8a04",
   "outputs": [
    {
     "data": {
      "text/plain": [
       "         Class\n",
       "count   568630\n",
       "unique       2\n",
       "top          0\n",
       "freq    284315"
      ],
      "text/html": [
       "<div>\n",
       "<style scoped>\n",
       "    .dataframe tbody tr th:only-of-type {\n",
       "        vertical-align: middle;\n",
       "    }\n",
       "\n",
       "    .dataframe tbody tr th {\n",
       "        vertical-align: top;\n",
       "    }\n",
       "\n",
       "    .dataframe thead th {\n",
       "        text-align: right;\n",
       "    }\n",
       "</style>\n",
       "<table border=\"1\" class=\"dataframe\">\n",
       "  <thead>\n",
       "    <tr style=\"text-align: right;\">\n",
       "      <th></th>\n",
       "      <th>Class</th>\n",
       "    </tr>\n",
       "  </thead>\n",
       "  <tbody>\n",
       "    <tr>\n",
       "      <th>count</th>\n",
       "      <td>568630</td>\n",
       "    </tr>\n",
       "    <tr>\n",
       "      <th>unique</th>\n",
       "      <td>2</td>\n",
       "    </tr>\n",
       "    <tr>\n",
       "      <th>top</th>\n",
       "      <td>0</td>\n",
       "    </tr>\n",
       "    <tr>\n",
       "      <th>freq</th>\n",
       "      <td>284315</td>\n",
       "    </tr>\n",
       "  </tbody>\n",
       "</table>\n",
       "</div>"
      ]
     },
     "execution_count": 37,
     "metadata": {},
     "output_type": "execute_result"
    }
   ],
   "execution_count": 37
  },
  {
   "metadata": {
    "ExecuteTime": {
     "end_time": "2024-11-24T17:26:24.956034Z",
     "start_time": "2024-11-24T17:26:24.823180Z"
    }
   },
   "cell_type": "code",
   "source": "df.info()",
   "id": "7a4abfd2fcefeb7c",
   "outputs": [
    {
     "name": "stdout",
     "output_type": "stream",
     "text": [
      "<class 'pandas.core.frame.DataFrame'>\n",
      "RangeIndex: 568630 entries, 0 to 568629\n",
      "Data columns (total 30 columns):\n",
      " #   Column  Non-Null Count   Dtype   \n",
      "---  ------  --------------   -----   \n",
      " 0   V1      568630 non-null  float64 \n",
      " 1   V2      568630 non-null  float64 \n",
      " 2   V3      568630 non-null  float64 \n",
      " 3   V4      568630 non-null  float64 \n",
      " 4   V5      568630 non-null  float64 \n",
      " 5   V6      568630 non-null  float64 \n",
      " 6   V7      568630 non-null  float64 \n",
      " 7   V8      568630 non-null  float64 \n",
      " 8   V9      568630 non-null  float64 \n",
      " 9   V10     568630 non-null  float64 \n",
      " 10  V11     568630 non-null  float64 \n",
      " 11  V12     568630 non-null  float64 \n",
      " 12  V13     568630 non-null  float64 \n",
      " 13  V14     568630 non-null  float64 \n",
      " 14  V15     568630 non-null  float64 \n",
      " 15  V16     568630 non-null  float64 \n",
      " 16  V17     568630 non-null  float64 \n",
      " 17  V18     568630 non-null  float64 \n",
      " 18  V19     568630 non-null  float64 \n",
      " 19  V20     568630 non-null  float64 \n",
      " 20  V21     568630 non-null  float64 \n",
      " 21  V22     568630 non-null  float64 \n",
      " 22  V23     568630 non-null  float64 \n",
      " 23  V24     568630 non-null  float64 \n",
      " 24  V25     568630 non-null  float64 \n",
      " 25  V26     568630 non-null  float64 \n",
      " 26  V27     568630 non-null  float64 \n",
      " 27  V28     568630 non-null  float64 \n",
      " 28  Amount  568630 non-null  float64 \n",
      " 29  Class   568630 non-null  category\n",
      "dtypes: category(1), float64(29)\n",
      "memory usage: 126.4 MB\n"
     ]
    }
   ],
   "execution_count": 38
  },
  {
   "metadata": {},
   "cell_type": "markdown",
   "source": "# Missing Values",
   "id": "a40bfa4cca1cf9f8"
  },
  {
   "metadata": {
    "ExecuteTime": {
     "end_time": "2024-11-24T17:26:27.291813Z",
     "start_time": "2024-11-24T17:26:24.957992Z"
    }
   },
   "cell_type": "code",
   "source": [
    "import missingno as msno\n",
    "msno.matrix(df)"
   ],
   "id": "79e4fc0c502169bf",
   "outputs": [
    {
     "data": {
      "text/plain": [
       "<Axes: >"
      ]
     },
     "execution_count": 39,
     "metadata": {},
     "output_type": "execute_result"
    },
    {
     "data": {
      "text/plain": [
       "<Figure size 2500x1000 with 2 Axes>"
      ],
      "image/png": "[encoded data removed]"
     },
     "metadata": {},
     "output_type": "display_data"
    }
   ],
   "execution_count": 39
  },
  {
   "metadata": {
    "ExecuteTime": {
     "end_time": "2024-11-24T17:26:27.472879Z",
     "start_time": "2024-11-24T17:26:27.292403Z"
    }
   },
   "cell_type": "code",
   "source": [
    "from common import null_table\n",
    "\n",
    "null_table_train = null_table(df)\n",
    "\n",
    "null_table_train.sort_values(\n",
    "    by='Percentage', \n",
    "    ascending=False\n",
    ")"
   ],
   "id": "365bbc449196b4b5",
   "outputs": [
    {
     "data": {
      "text/plain": [
       "Empty DataFrame\n",
       "Columns: [Columns, Null Count, Percentage]\n",
       "Index: []"
      ],
      "text/html": [
       "<div>\n",
       "<style scoped>\n",
       "    .dataframe tbody tr th:only-of-type {\n",
       "        vertical-align: middle;\n",
       "    }\n",
       "\n",
       "    .dataframe tbody tr th {\n",
       "        vertical-align: top;\n",
       "    }\n",
       "\n",
       "    .dataframe thead th {\n",
       "        text-align: right;\n",
       "    }\n",
       "</style>\n",
       "<table border=\"1\" class=\"dataframe\">\n",
       "  <thead>\n",
       "    <tr style=\"text-align: right;\">\n",
       "      <th></th>\n",
       "      <th>Columns</th>\n",
       "      <th>Null Count</th>\n",
       "      <th>Percentage</th>\n",
       "    </tr>\n",
       "  </thead>\n",
       "  <tbody>\n",
       "  </tbody>\n",
       "</table>\n",
       "</div>"
      ]
     },
     "execution_count": 40,
     "metadata": {},
     "output_type": "execute_result"
    }
   ],
   "execution_count": 40
  },
  {
   "metadata": {},
   "cell_type": "markdown",
   "source": "# Duplicates",
   "id": "6b8bdbdaba03c550"
  },
  {
   "metadata": {
    "ExecuteTime": {
     "end_time": "2024-11-24T17:26:29.539910Z",
     "start_time": "2024-11-24T17:26:27.475465Z"
    }
   },
   "cell_type": "code",
   "source": [
    "duplicates_mask = df.duplicated(subset=features, keep=False)\n",
    "duplicates_mask.sum()"
   ],
   "id": "88084f4e65c7b144",
   "outputs": [
    {
     "data": {
      "text/plain": [
       "2"
      ]
     },
     "execution_count": 41,
     "metadata": {},
     "output_type": "execute_result"
    }
   ],
   "execution_count": 41
  },
  {
   "metadata": {
    "ExecuteTime": {
     "end_time": "2024-11-24T17:26:31.551374Z",
     "start_time": "2024-11-24T17:26:29.543458Z"
    }
   },
   "cell_type": "code",
   "source": "df = df.drop_duplicates(subset=features, keep=False)",
   "id": "bc1b38e113858c5f",
   "outputs": [],
   "execution_count": 42
  },
  {
   "metadata": {},
   "cell_type": "markdown",
   "source": "# Class Imbalance",
   "id": "29238b1444b94ac6"
  },
  {
   "metadata": {},
   "cell_type": "markdown",
   "source": "No class imbalance in the dataset.",
   "id": "628ed75be62e1d67"
  },
  {
   "metadata": {
    "ExecuteTime": {
     "end_time": "2024-11-24T17:26:31.637871Z",
     "start_time": "2024-11-24T17:26:31.552893Z"
    }
   },
   "cell_type": "code",
   "source": "df['Class'].astype('category', copy=False).value_counts()",
   "id": "a9557e3738b5abcd",
   "outputs": [
    {
     "data": {
      "text/plain": [
       "Class\n",
       "0    284315\n",
       "1    284313\n",
       "Name: count, dtype: int64"
      ]
     },
     "execution_count": 43,
     "metadata": {},
     "output_type": "execute_result"
    }
   ],
   "execution_count": 43
  },
  {
   "metadata": {
    "ExecuteTime": {
     "end_time": "2024-11-24T17:26:32.276068Z",
     "start_time": "2024-11-24T17:26:31.638888Z"
    }
   },
   "cell_type": "code",
   "source": "sns.countplot(data=df, x='Class')",
   "id": "25f5d1399e06469e",
   "outputs": [
    {
     "data": {
      "text/plain": [
       "<Axes: xlabel='Class', ylabel='count'>"
      ]
     },
     "execution_count": 44,
     "metadata": {},
     "output_type": "execute_result"
    },
    {
     "data": {
      "text/plain": [
       "<Figure size 640x480 with 1 Axes>"
      ],
      "image/png": "[encoded data removed]"
     },
     "metadata": {},
     "output_type": "display_data"
    }
   ],
   "execution_count": 44
  },
  {
   "metadata": {},
   "cell_type": "markdown",
   "source": "# Skew Handling",
   "id": "1fd2ccfb9aefbea8"
  },
  {
   "metadata": {
    "ExecuteTime": {
     "end_time": "2024-11-24T17:26:32.674776Z",
     "start_time": "2024-11-24T17:26:32.278091Z"
    }
   },
   "cell_type": "code",
   "source": "df.skew(numeric_only=True)",
   "id": "483ad2cceb95518e",
   "outputs": [
    {
     "data": {
      "text/plain": [
       "V1        -0.083419\n",
       "V2        -1.398034\n",
       "V3         0.014616\n",
       "V4        -0.044164\n",
       "V5         1.506411\n",
       "V6        -0.201706\n",
       "V7        19.027394\n",
       "V8         0.300736\n",
       "V9         0.171060\n",
       "V10        0.740408\n",
       "V11       -0.020884\n",
       "V12        0.066753\n",
       "V13        0.014910\n",
       "V14        0.207829\n",
       "V15        0.011230\n",
       "V16        0.266402\n",
       "V17        0.373055\n",
       "V18        0.129184\n",
       "V19       -0.010173\n",
       "V20       -1.556394\n",
       "V21       -0.110796\n",
       "V22        0.319475\n",
       "V23       -0.100539\n",
       "V24        0.066083\n",
       "V25        0.023012\n",
       "V26       -0.018961\n",
       "V27        2.755485\n",
       "V28        1.725005\n",
       "Amount     0.001659\n",
       "dtype: float64"
      ]
     },
     "execution_count": 45,
     "metadata": {},
     "output_type": "execute_result"
    }
   ],
   "execution_count": 45
  },
  {
   "metadata": {},
   "cell_type": "markdown",
   "source": "There is some skew in the data. We will use the Yeo-Johnson transformation to fix the skewness.",
   "id": "c0818837f0579102"
  },
  {
   "metadata": {
    "ExecuteTime": {
     "end_time": "2024-11-24T17:26:40.147783Z",
     "start_time": "2024-11-24T17:26:32.677786Z"
    }
   },
   "cell_type": "code",
   "source": [
    "from common import fix_skewness_yeojohnson\n",
    "\n",
    "df = fix_skewness_yeojohnson(df, skew_threshold=0.5)\n",
    "df.shape"
   ],
   "id": "2fc9a78c85654c64",
   "outputs": [
    {
     "data": {
      "text/plain": [
       "(568628, 30)"
      ]
     },
     "execution_count": 46,
     "metadata": {},
     "output_type": "execute_result"
    }
   ],
   "execution_count": 46
  },
  {
   "metadata": {},
   "cell_type": "markdown",
   "source": "# Data Splitting",
   "id": "afc706a9adb83b10"
  },
  {
   "metadata": {
    "ExecuteTime": {
     "end_time": "2024-11-24T17:26:40.288215Z",
     "start_time": "2024-11-24T17:26:40.150343Z"
    }
   },
   "cell_type": "code",
   "source": [
    "X = df.drop(columns=\"Class\", axis=1)\n",
    "y = df['Class']"
   ],
   "id": "4f00d6beb188c572",
   "outputs": [],
   "execution_count": 47
  },
  {
   "metadata": {
    "ExecuteTime": {
     "end_time": "2024-11-24T17:26:40.685851Z",
     "start_time": "2024-11-24T17:26:40.289224Z"
    }
   },
   "cell_type": "code",
   "source": [
    "X_train, X_test, y_train, y_test = train_test_split(\n",
    "    X, y, \n",
    "    test_size=0.2, \n",
    "    stratify=y\n",
    ")"
   ],
   "id": "8ce1270ecff47d62",
   "outputs": [],
   "execution_count": 48
  },
  {
   "metadata": {},
   "cell_type": "markdown",
   "source": "# Transforms",
   "id": "75236488b17f52f7"
  },
  {
   "metadata": {
    "ExecuteTime": {
     "end_time": "2024-11-24T17:26:41.066100Z",
     "start_time": "2024-11-24T17:26:40.686874Z"
    }
   },
   "cell_type": "code",
   "source": [
    "from sklearn.preprocessing import StandardScaler\n",
    "scaler = StandardScaler()\n",
    "scaler.fit(X_train)\n",
    "\n",
    "X_train = scaler.transform(X_train)\n",
    "X_test = scaler.transform(X_test)"
   ],
   "id": "b66bff38397e028",
   "outputs": [],
   "execution_count": 49
  },
  {
   "metadata": {},
   "cell_type": "markdown",
   "source": "# PCA - Find n_components",
   "id": "69d588700a97c1f1"
  },
  {
   "metadata": {
    "ExecuteTime": {
     "end_time": "2024-11-24T17:26:41.194204Z",
     "start_time": "2024-11-24T17:26:41.068110Z"
    }
   },
   "cell_type": "code",
   "source": [
    "from sklearn.decomposition import PCA\n",
    "pca = PCA()\n",
    "pca.fit(X_train)"
   ],
   "id": "e3a7a6e164f70d42",
   "outputs": [
    {
     "data": {
      "text/plain": [
       "PCA()"
      ],
      "text/html": [
       "<style>#sk-container-id-2 {\n",
       "  /* Definition of color scheme common for light and dark mode */\n",
       "  --sklearn-color-text: black;\n",
       "  --sklearn-color-line: gray;\n",
       "  /* Definition of color scheme for unfitted estimators */\n",
       "  --sklearn-color-unfitted-level-0: #fff5e6;\n",
       "  --sklearn-color-unfitted-level-1: #f6e4d2;\n",
       "  --sklearn-color-unfitted-level-2: #ffe0b3;\n",
       "  --sklearn-color-unfitted-level-3: chocolate;\n",
       "  /* Definition of color scheme for fitted estimators */\n",
       "  --sklearn-color-fitted-level-0: #f0f8ff;\n",
       "  --sklearn-color-fitted-level-1: #d4ebff;\n",
       "  --sklearn-color-fitted-level-2: #b3dbfd;\n",
       "  --sklearn-color-fitted-level-3: cornflowerblue;\n",
       "\n",
       "  /* Specific color for light theme */\n",
       "  --sklearn-color-text-on-default-background: var(--sg-text-color, var(--theme-code-foreground, var(--jp-content-font-color1, black)));\n",
       "  --sklearn-color-background: var(--sg-background-color, var(--theme-background, var(--jp-layout-color0, white)));\n",
       "  --sklearn-color-border-box: var(--sg-text-color, var(--theme-code-foreground, var(--jp-content-font-color1, black)));\n",
       "  --sklearn-color-icon: #696969;\n",
       "\n",
       "  @media (prefers-color-scheme: dark) {\n",
       "    /* Redefinition of color scheme for dark theme */\n",
       "    --sklearn-color-text-on-default-background: var(--sg-text-color, var(--theme-code-foreground, var(--jp-content-font-color1, white)));\n",
       "    --sklearn-color-background: var(--sg-background-color, var(--theme-background, var(--jp-layout-color0, #111)));\n",
       "    --sklearn-color-border-box: var(--sg-text-color, var(--theme-code-foreground, var(--jp-content-font-color1, white)));\n",
       "    --sklearn-color-icon: #878787;\n",
       "  }\n",
       "}\n",
       "\n",
       "#sk-container-id-2 {\n",
       "  color: var(--sklearn-color-text);\n",
       "}\n",
       "\n",
       "#sk-container-id-2 pre {\n",
       "  padding: 0;\n",
       "}\n",
       "\n",
       "#sk-container-id-2 input.sk-hidden--visually {\n",
       "  border: 0;\n",
       "  clip: rect(1px 1px 1px 1px);\n",
       "  clip: rect(1px, 1px, 1px, 1px);\n",
       "  height: 1px;\n",
       "  margin: -1px;\n",
       "  overflow: hidden;\n",
       "  padding: 0;\n",
       "  position: absolute;\n",
       "  width: 1px;\n",
       "}\n",
       "\n",
       "#sk-container-id-2 div.sk-dashed-wrapped {\n",
       "  border: 1px dashed var(--sklearn-color-line);\n",
       "  margin: 0 0.4em 0.5em 0.4em;\n",
       "  box-sizing: border-box;\n",
       "  padding-bottom: 0.4em;\n",
       "  background-color: var(--sklearn-color-background);\n",
       "}\n",
       "\n",
       "#sk-container-id-2 div.sk-container {\n",
       "  /* jupyter's `normalize.less` sets `[hidden] { display: none; }`\n",
       "     but bootstrap.min.css set `[hidden] { display: none !important; }`\n",
       "     so we also need the `!important` here to be able to override the\n",
       "     default hidden behavior on the sphinx rendered scikit-learn.org.\n",
       "     See: https://github.com/scikit-learn/scikit-learn/issues/21755 */\n",
       "  display: inline-block !important;\n",
       "  position: relative;\n",
       "}\n",
       "\n",
       "#sk-container-id-2 div.sk-text-repr-fallback {\n",
       "  display: none;\n",
       "}\n",
       "\n",
       "div.sk-parallel-item,\n",
       "div.sk-serial,\n",
       "div.sk-item {\n",
       "  /* draw centered vertical line to link estimators */\n",
       "  background-image: linear-gradient(var(--sklearn-color-text-on-default-background), var(--sklearn-color-text-on-default-background));\n",
       "  background-size: 2px 100%;\n",
       "  background-repeat: no-repeat;\n",
       "  background-position: center center;\n",
       "}\n",
       "\n",
       "/* Parallel-specific style estimator block */\n",
       "\n",
       "#sk-container-id-2 div.sk-parallel-item::after {\n",
       "  content: \"\";\n",
       "  width: 100%;\n",
       "  border-bottom: 2px solid var(--sklearn-color-text-on-default-background);\n",
       "  flex-grow: 1;\n",
       "}\n",
       "\n",
       "#sk-container-id-2 div.sk-parallel {\n",
       "  display: flex;\n",
       "  align-items: stretch;\n",
       "  justify-content: center;\n",
       "  background-color: var(--sklearn-color-background);\n",
       "  position: relative;\n",
       "}\n",
       "\n",
       "#sk-container-id-2 div.sk-parallel-item {\n",
       "  display: flex;\n",
       "  flex-direction: column;\n",
       "}\n",
       "\n",
       "#sk-container-id-2 div.sk-parallel-item:first-child::after {\n",
       "  align-self: flex-end;\n",
       "  width: 50%;\n",
       "}\n",
       "\n",
       "#sk-container-id-2 div.sk-parallel-item:last-child::after {\n",
       "  align-self: flex-start;\n",
       "  width: 50%;\n",
       "}\n",
       "\n",
       "#sk-container-id-2 div.sk-parallel-item:only-child::after {\n",
       "  width: 0;\n",
       "}\n",
       "\n",
       "/* Serial-specific style estimator block */\n",
       "\n",
       "#sk-container-id-2 div.sk-serial {\n",
       "  display: flex;\n",
       "  flex-direction: column;\n",
       "  align-items: center;\n",
       "  background-color: var(--sklearn-color-background);\n",
       "  padding-right: 1em;\n",
       "  padding-left: 1em;\n",
       "}\n",
       "\n",
       "\n",
       "/* Toggleable style: style used for estimator/Pipeline/ColumnTransformer box that is\n",
       "clickable and can be expanded/collapsed.\n",
       "- Pipeline and ColumnTransformer use this feature and define the default style\n",
       "- Estimators will overwrite some part of the style using the `sk-estimator` class\n",
       "*/\n",
       "\n",
       "/* Pipeline and ColumnTransformer style (default) */\n",
       "\n",
       "#sk-container-id-2 div.sk-toggleable {\n",
       "  /* Default theme specific background. It is overwritten whether we have a\n",
       "  specific estimator or a Pipeline/ColumnTransformer */\n",
       "  background-color: var(--sklearn-color-background);\n",
       "}\n",
       "\n",
       "/* Toggleable label */\n",
       "#sk-container-id-2 label.sk-toggleable__label {\n",
       "  cursor: pointer;\n",
       "  display: block;\n",
       "  width: 100%;\n",
       "  margin-bottom: 0;\n",
       "  padding: 0.5em;\n",
       "  box-sizing: border-box;\n",
       "  text-align: center;\n",
       "}\n",
       "\n",
       "#sk-container-id-2 label.sk-toggleable__label-arrow:before {\n",
       "  /* Arrow on the left of the label */\n",
       "  content: \"▸\";\n",
       "  float: left;\n",
       "  margin-right: 0.25em;\n",
       "  color: var(--sklearn-color-icon);\n",
       "}\n",
       "\n",
       "#sk-container-id-2 label.sk-toggleable__label-arrow:hover:before {\n",
       "  color: var(--sklearn-color-text);\n",
       "}\n",
       "\n",
       "/* Toggleable content - dropdown */\n",
       "\n",
       "#sk-container-id-2 div.sk-toggleable__content {\n",
       "  max-height: 0;\n",
       "  max-width: 0;\n",
       "  overflow: hidden;\n",
       "  text-align: left;\n",
       "  /* unfitted */\n",
       "  background-color: var(--sklearn-color-unfitted-level-0);\n",
       "}\n",
       "\n",
       "#sk-container-id-2 div.sk-toggleable__content.fitted {\n",
       "  /* fitted */\n",
       "  background-color: var(--sklearn-color-fitted-level-0);\n",
       "}\n",
       "\n",
       "#sk-container-id-2 div.sk-toggleable__content pre {\n",
       "  margin: 0.2em;\n",
       "  border-radius: 0.25em;\n",
       "  color: var(--sklearn-color-text);\n",
       "  /* unfitted */\n",
       "  background-color: var(--sklearn-color-unfitted-level-0);\n",
       "}\n",
       "\n",
       "#sk-container-id-2 div.sk-toggleable__content.fitted pre {\n",
       "  /* unfitted */\n",
       "  background-color: var(--sklearn-color-fitted-level-0);\n",
       "}\n",
       "\n",
       "#sk-container-id-2 input.sk-toggleable__control:checked~div.sk-toggleable__content {\n",
       "  /* Expand drop-down */\n",
       "  max-height: 200px;\n",
       "  max-width: 100%;\n",
       "  overflow: auto;\n",
       "}\n",
       "\n",
       "#sk-container-id-2 input.sk-toggleable__control:checked~label.sk-toggleable__label-arrow:before {\n",
       "  content: \"▾\";\n",
       "}\n",
       "\n",
       "/* Pipeline/ColumnTransformer-specific style */\n",
       "\n",
       "#sk-container-id-2 div.sk-label input.sk-toggleable__control:checked~label.sk-toggleable__label {\n",
       "  color: var(--sklearn-color-text);\n",
       "  background-color: var(--sklearn-color-unfitted-level-2);\n",
       "}\n",
       "\n",
       "#sk-container-id-2 div.sk-label.fitted input.sk-toggleable__control:checked~label.sk-toggleable__label {\n",
       "  background-color: var(--sklearn-color-fitted-level-2);\n",
       "}\n",
       "\n",
       "/* Estimator-specific style */\n",
       "\n",
       "/* Colorize estimator box */\n",
       "#sk-container-id-2 div.sk-estimator input.sk-toggleable__control:checked~label.sk-toggleable__label {\n",
       "  /* unfitted */\n",
       "  background-color: var(--sklearn-color-unfitted-level-2);\n",
       "}\n",
       "\n",
       "#sk-container-id-2 div.sk-estimator.fitted input.sk-toggleable__control:checked~label.sk-toggleable__label {\n",
       "  /* fitted */\n",
       "  background-color: var(--sklearn-color-fitted-level-2);\n",
       "}\n",
       "\n",
       "#sk-container-id-2 div.sk-label label.sk-toggleable__label,\n",
       "#sk-container-id-2 div.sk-label label {\n",
       "  /* The background is the default theme color */\n",
       "  color: var(--sklearn-color-text-on-default-background);\n",
       "}\n",
       "\n",
       "/* On hover, darken the color of the background */\n",
       "#sk-container-id-2 div.sk-label:hover label.sk-toggleable__label {\n",
       "  color: var(--sklearn-color-text);\n",
       "  background-color: var(--sklearn-color-unfitted-level-2);\n",
       "}\n",
       "\n",
       "/* Label box, darken color on hover, fitted */\n",
       "#sk-container-id-2 div.sk-label.fitted:hover label.sk-toggleable__label.fitted {\n",
       "  color: var(--sklearn-color-text);\n",
       "  background-color: var(--sklearn-color-fitted-level-2);\n",
       "}\n",
       "\n",
       "/* Estimator label */\n",
       "\n",
       "#sk-container-id-2 div.sk-label label {\n",
       "  font-family: monospace;\n",
       "  font-weight: bold;\n",
       "  display: inline-block;\n",
       "  line-height: 1.2em;\n",
       "}\n",
       "\n",
       "#sk-container-id-2 div.sk-label-container {\n",
       "  text-align: center;\n",
       "}\n",
       "\n",
       "/* Estimator-specific */\n",
       "#sk-container-id-2 div.sk-estimator {\n",
       "  font-family: monospace;\n",
       "  border: 1px dotted var(--sklearn-color-border-box);\n",
       "  border-radius: 0.25em;\n",
       "  box-sizing: border-box;\n",
       "  margin-bottom: 0.5em;\n",
       "  /* unfitted */\n",
       "  background-color: var(--sklearn-color-unfitted-level-0);\n",
       "}\n",
       "\n",
       "#sk-container-id-2 div.sk-estimator.fitted {\n",
       "  /* fitted */\n",
       "  background-color: var(--sklearn-color-fitted-level-0);\n",
       "}\n",
       "\n",
       "/* on hover */\n",
       "#sk-container-id-2 div.sk-estimator:hover {\n",
       "  /* unfitted */\n",
       "  background-color: var(--sklearn-color-unfitted-level-2);\n",
       "}\n",
       "\n",
       "#sk-container-id-2 div.sk-estimator.fitted:hover {\n",
       "  /* fitted */\n",
       "  background-color: var(--sklearn-color-fitted-level-2);\n",
       "}\n",
       "\n",
       "/* Specification for estimator info (e.g. \"i\" and \"?\") */\n",
       "\n",
       "/* Common style for \"i\" and \"?\" */\n",
       "\n",
       ".sk-estimator-doc-link,\n",
       "a:link.sk-estimator-doc-link,\n",
       "a:visited.sk-estimator-doc-link {\n",
       "  float: right;\n",
       "  font-size: smaller;\n",
       "  line-height: 1em;\n",
       "  font-family: monospace;\n",
       "  background-color: var(--sklearn-color-background);\n",
       "  border-radius: 1em;\n",
       "  height: 1em;\n",
       "  width: 1em;\n",
       "  text-decoration: none !important;\n",
       "  margin-left: 1ex;\n",
       "  /* unfitted */\n",
       "  border: var(--sklearn-color-unfitted-level-1) 1pt solid;\n",
       "  color: var(--sklearn-color-unfitted-level-1);\n",
       "}\n",
       "\n",
       ".sk-estimator-doc-link.fitted,\n",
       "a:link.sk-estimator-doc-link.fitted,\n",
       "a:visited.sk-estimator-doc-link.fitted {\n",
       "  /* fitted */\n",
       "  border: var(--sklearn-color-fitted-level-1) 1pt solid;\n",
       "  color: var(--sklearn-color-fitted-level-1);\n",
       "}\n",
       "\n",
       "/* On hover */\n",
       "div.sk-estimator:hover .sk-estimator-doc-link:hover,\n",
       ".sk-estimator-doc-link:hover,\n",
       "div.sk-label-container:hover .sk-estimator-doc-link:hover,\n",
       ".sk-estimator-doc-link:hover {\n",
       "  /* unfitted */\n",
       "  background-color: var(--sklearn-color-unfitted-level-3);\n",
       "  color: var(--sklearn-color-background);\n",
       "  text-decoration: none;\n",
       "}\n",
       "\n",
       "div.sk-estimator.fitted:hover .sk-estimator-doc-link.fitted:hover,\n",
       ".sk-estimator-doc-link.fitted:hover,\n",
       "div.sk-label-container:hover .sk-estimator-doc-link.fitted:hover,\n",
       ".sk-estimator-doc-link.fitted:hover {\n",
       "  /* fitted */\n",
       "  background-color: var(--sklearn-color-fitted-level-3);\n",
       "  color: var(--sklearn-color-background);\n",
       "  text-decoration: none;\n",
       "}\n",
       "\n",
       "/* Span, style for the box shown on hovering the info icon */\n",
       ".sk-estimator-doc-link span {\n",
       "  display: none;\n",
       "  z-index: 9999;\n",
       "  position: relative;\n",
       "  font-weight: normal;\n",
       "  right: .2ex;\n",
       "  padding: .5ex;\n",
       "  margin: .5ex;\n",
       "  width: min-content;\n",
       "  min-width: 20ex;\n",
       "  max-width: 50ex;\n",
       "  color: var(--sklearn-color-text);\n",
       "  box-shadow: 2pt 2pt 4pt #999;\n",
       "  /* unfitted */\n",
       "  background: var(--sklearn-color-unfitted-level-0);\n",
       "  border: .5pt solid var(--sklearn-color-unfitted-level-3);\n",
       "}\n",
       "\n",
       ".sk-estimator-doc-link.fitted span {\n",
       "  /* fitted */\n",
       "  background: var(--sklearn-color-fitted-level-0);\n",
       "  border: var(--sklearn-color-fitted-level-3);\n",
       "}\n",
       "\n",
       ".sk-estimator-doc-link:hover span {\n",
       "  display: block;\n",
       "}\n",
       "\n",
       "/* \"?\"-specific style due to the `<a>` HTML tag */\n",
       "\n",
       "#sk-container-id-2 a.estimator_doc_link {\n",
       "  float: right;\n",
       "  font-size: 1rem;\n",
       "  line-height: 1em;\n",
       "  font-family: monospace;\n",
       "  background-color: var(--sklearn-color-background);\n",
       "  border-radius: 1rem;\n",
       "  height: 1rem;\n",
       "  width: 1rem;\n",
       "  text-decoration: none;\n",
       "  /* unfitted */\n",
       "  color: var(--sklearn-color-unfitted-level-1);\n",
       "  border: var(--sklearn-color-unfitted-level-1) 1pt solid;\n",
       "}\n",
       "\n",
       "#sk-container-id-2 a.estimator_doc_link.fitted {\n",
       "  /* fitted */\n",
       "  border: var(--sklearn-color-fitted-level-1) 1pt solid;\n",
       "  color: var(--sklearn-color-fitted-level-1);\n",
       "}\n",
       "\n",
       "/* On hover */\n",
       "#sk-container-id-2 a.estimator_doc_link:hover {\n",
       "  /* unfitted */\n",
       "  background-color: var(--sklearn-color-unfitted-level-3);\n",
       "  color: var(--sklearn-color-background);\n",
       "  text-decoration: none;\n",
       "}\n",
       "\n",
       "#sk-container-id-2 a.estimator_doc_link.fitted:hover {\n",
       "  /* fitted */\n",
       "  background-color: var(--sklearn-color-fitted-level-3);\n",
       "}\n",
       "</style><div id=\"sk-container-id-2\" class=\"sk-top-container\"><div class=\"sk-text-repr-fallback\"><pre>PCA()</pre><b>In a Jupyter environment, please rerun this cell to show the HTML representation or trust the notebook. <br />On GitHub, the HTML representation is unable to render, please try loading this page with nbviewer.org.</b></div><div class=\"sk-container\" hidden><div class=\"sk-item\"><div class=\"sk-estimator fitted sk-toggleable\"><input class=\"sk-toggleable__control sk-hidden--visually\" id=\"sk-estimator-id-2\" type=\"checkbox\" checked><label for=\"sk-estimator-id-2\" class=\"sk-toggleable__label fitted sk-toggleable__label-arrow fitted\">&nbsp;&nbsp;PCA<a class=\"sk-estimator-doc-link fitted\" rel=\"noreferrer\" target=\"_blank\" href=\"https://scikit-learn.org/1.5/modules/generated/sklearn.decomposition.PCA.html\">?<span>Documentation for PCA</span></a><span class=\"sk-estimator-doc-link fitted\">i<span>Fitted</span></span></label><div class=\"sk-toggleable__content fitted\"><pre>PCA()</pre></div> </div></div></div></div>"
      ]
     },
     "execution_count": 50,
     "metadata": {},
     "output_type": "execute_result"
    }
   ],
   "execution_count": 50
  },
  {
   "metadata": {
    "ExecuteTime": {
     "end_time": "2024-11-24T17:26:41.393283Z",
     "start_time": "2024-11-24T17:26:41.196155Z"
    }
   },
   "cell_type": "code",
   "source": "X_train_pca = pca.transform(X_train) ",
   "id": "2db05eb847f987fc",
   "outputs": [],
   "execution_count": 51
  },
  {
   "metadata": {
    "ExecuteTime": {
     "end_time": "2024-11-24T17:26:41.508672Z",
     "start_time": "2024-11-24T17:26:41.395293Z"
    }
   },
   "cell_type": "code",
   "source": [
    "print(\"Original shape:\", X_train.shape)\n",
    "print(\"Reduced shape:\", X_train_pca.shape)"
   ],
   "id": "77b924d45cfe2ae8",
   "outputs": [
    {
     "name": "stdout",
     "output_type": "stream",
     "text": [
      "Original shape: (454902, 29)\n",
      "Reduced shape: (454902, 29)\n"
     ]
    }
   ],
   "execution_count": 52
  },
  {
   "metadata": {
    "ExecuteTime": {
     "end_time": "2024-11-24T17:26:41.606314Z",
     "start_time": "2024-11-24T17:26:41.510681Z"
    }
   },
   "cell_type": "code",
   "source": "pca.explained_variance_ratio_",
   "id": "bc3d3ac6e98b9f84",
   "outputs": [
    {
     "data": {
      "text/plain": [
       "array([0.34002468, 0.09774157, 0.06651526, 0.06354094, 0.04477807,\n",
       "       0.03660986, 0.03459105, 0.034365  , 0.02986148, 0.02842692,\n",
       "       0.02586873, 0.02098861, 0.01900642, 0.01730009, 0.01679281,\n",
       "       0.01394264, 0.01331585, 0.01216524, 0.0119388 , 0.00981061,\n",
       "       0.00956477, 0.00852273, 0.00801542, 0.00708892, 0.00673276,\n",
       "       0.00648306, 0.00623602, 0.00598885, 0.00378283])"
      ]
     },
     "execution_count": 53,
     "metadata": {},
     "output_type": "execute_result"
    }
   ],
   "execution_count": 53
  },
  {
   "metadata": {
    "ExecuteTime": {
     "end_time": "2024-11-24T17:26:41.690734Z",
     "start_time": "2024-11-24T17:26:41.607322Z"
    }
   },
   "cell_type": "code",
   "source": [
    "cumulative_variance_ratio = pca.explained_variance_ratio_.cumsum()\n",
    "cumulative_variance_ratio"
   ],
   "id": "4f6530a30368805b",
   "outputs": [
    {
     "data": {
      "text/plain": [
       "array([0.34002468, 0.43776625, 0.50428152, 0.56782245, 0.61260052,\n",
       "       0.64921038, 0.68380143, 0.71816643, 0.74802791, 0.77645483,\n",
       "       0.80232355, 0.82331217, 0.84231859, 0.85961868, 0.87641149,\n",
       "       0.89035413, 0.90366999, 0.91583522, 0.92777402, 0.93758464,\n",
       "       0.94714941, 0.95567214, 0.96368756, 0.97077648, 0.97750924,\n",
       "       0.9839923 , 0.99022832, 0.99621717, 1.        ])"
      ]
     },
     "execution_count": 54,
     "metadata": {},
     "output_type": "execute_result"
    }
   ],
   "execution_count": 54
  },
  {
   "metadata": {},
   "cell_type": "markdown",
   "source": "Let's choose the number of components that explain 95% of the variance.",
   "id": "5deef3f083e49ded"
  },
  {
   "metadata": {
    "ExecuteTime": {
     "end_time": "2024-11-24T17:26:41.776403Z",
     "start_time": "2024-11-24T17:26:41.690734Z"
    }
   },
   "cell_type": "code",
   "source": [
    "chosen_variance: float = 0.95\n",
    "n_components = sum(pca.explained_variance_ratio_.cumsum() < chosen_variance) + 1\n",
    "print(f\"Components needed for 95% variance: {n_components}\")"
   ],
   "id": "950c2d8511db67fb",
   "outputs": [
    {
     "name": "stdout",
     "output_type": "stream",
     "text": [
      "Components needed for 95% variance: 22\n"
     ]
    }
   ],
   "execution_count": 55
  },
  {
   "metadata": {
    "ExecuteTime": {
     "end_time": "2024-11-24T17:26:42.163268Z",
     "start_time": "2024-11-24T17:26:41.779413Z"
    }
   },
   "cell_type": "code",
   "source": [
    "plt.figure(figsize=(10, 5))\n",
    "\n",
    "plt.plot(\n",
    "    range(0, len(pca.explained_variance_ratio_)), \n",
    "    cumulative_variance_ratio, \n",
    "    \"o-\"\n",
    ")\n",
    "\n",
    "plt.xlabel(\"No of Components\", fontsize=14)\n",
    "plt.ylabel(\"Cumulative Explained Variance Ratio\", fontsize=14)\n",
    "plt.title(\"Cumulative Explained Variance\", fontsize=16)\n",
    "\n",
    "plt.axhline(\n",
    "    y=chosen_variance, \n",
    "    color=\"r\", linestyle=\"--\", \n",
    "    label=\"95% Variance\"\n",
    ")\n",
    "\n",
    "plt.axvline(\n",
    "    x=n_components - 1, \n",
    "    color=\"g\", linestyle=\"--\", \n",
    "    label=f\"{n_components} Components\"\n",
    ")\n",
    "\n",
    "plt.legend(fontsize=12)\n",
    "\n",
    "plt.tick_params(axis=\"both\", which=\"major\", labelsize=12)\n",
    "\n",
    "plt.show()"
   ],
   "id": "f992648ecfa1bdac",
   "outputs": [
    {
     "data": {
      "text/plain": [
       "<Figure size 1000x500 with 1 Axes>"
      ],
      "image/png": "[encoded data removed]"
     },
     "metadata": {},
     "output_type": "display_data"
    }
   ],
   "execution_count": 56
  },
  {
   "metadata": {
    "ExecuteTime": {
     "end_time": "2024-11-24T17:26:42.168620Z",
     "start_time": "2024-11-24T17:26:42.165182Z"
    }
   },
   "cell_type": "code",
   "source": "",
   "id": "541994465b97519",
   "outputs": [],
   "execution_count": 56
  }
 ],
 "metadata": {
  "kernelspec": {
   "display_name": "Python 3",
   "language": "python",
   "name": "python3"
  },
  "language_info": {
   "codemirror_mode": {
    "name": "ipython",
    "version": 2
   },
   "file_extension": ".py",
   "mimetype": "text/x-python",
   "name": "python",
   "nbconvert_exporter": "python",
   "pygments_lexer": "ipython2",
   "version": "2.7.6"
  }
 },
 "nbformat": 4,
 "nbformat_minor": 5
}
